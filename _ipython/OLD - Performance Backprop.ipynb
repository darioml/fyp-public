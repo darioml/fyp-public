{
 "cells": [
  {
   "cell_type": "code",
   "execution_count": 1,
   "metadata": {
    "collapsed": false
   },
   "outputs": [
    {
     "name": "stdout",
     "output_type": "stream",
     "text": [
      "/Users/darioml/src/fyp/backprop\n"
     ]
    }
   ],
   "source": [
    "cd ../backprop"
   ]
  },
  {
   "cell_type": "code",
   "execution_count": 2,
   "metadata": {
    "collapsed": false
   },
   "outputs": [
    {
     "name": "stdout",
     "output_type": "stream",
     "text": [
      "Populating the interactive namespace from numpy and matplotlib\n"
     ]
    }
   ],
   "source": [
    "%pylab inline\n",
    "from scipy_optim import NN_1HL\n",
    "import time\n",
    "import numpy as np\n",
    "from scipy_optim import NN_1HL\n",
    "from sklearn import cross_validation\n",
    "from sklearn.metrics import accuracy_score\n",
    "import matplotlib.pyplot as plt\n",
    "from pprint import pprint\n",
    "import scipy.io"
   ]
  },
  {
   "cell_type": "code",
   "execution_count": 18,
   "metadata": {
    "collapsed": false
   },
   "outputs": [],
   "source": [
    "data_file = scipy.io.loadmat('../data/ball.mat')\n",
    "\n",
    "data = np.array(data_file['X'])\n",
    "labels = np.array(data_file['Y'], 'uint8').T\n",
    "\n",
    "labels = labels.flatten()"
   ]
  },
  {
   "cell_type": "code",
   "execution_count": 4,
   "metadata": {
    "collapsed": true
   },
   "outputs": [],
   "source": [
    "def test_simple_backprop(data, labels, hidden_nodes, iterations, maxiter=200, plot=False):\n",
    "    times = []\n",
    "    accuracy = []\n",
    "    \n",
    "    for i in range(iterations):\n",
    "        X_train, X_test, y_train, y_test = cross_validation.train_test_split(data, labels, test_size=0.2)\n",
    "        nn = NN_1HL(maxiter=maxiter, hidden_layer_size=hidden_nodes)\n",
    "        \n",
    "        time_now = time.time()\n",
    "        nn.fit(X_train, y_train)\n",
    "        times.append( time.time() - time_now )\n",
    "        \n",
    "        accuracy.append(accuracy_score(y_test, nn.predict(X_test)))\n",
    "    return np.mean(accuracy),np.mean(times),accuracy,times"
   ]
  },
  {
   "cell_type": "code",
   "execution_count": 9,
   "metadata": {
    "collapsed": false
   },
   "outputs": [
    {
     "name": "stdout",
     "output_type": "stream",
     "text": [
      "done with 1\n",
      "done with 2\n",
      "done with 3\n"
     ]
    },
    {
     "data": {
      "text/plain": [
       "[<matplotlib.lines.Line2D at 0x10a7cd510>]"
      ]
     },
     "execution_count": 9,
     "metadata": {},
     "output_type": "execute_result"
    },
    {
     "data": {
      "image/png": "[encoded data removed]",
      "text/plain": [
       "<matplotlib.figure.Figure at 0x109568210>"
      ]
     },
     "metadata": {},
     "output_type": "display_data"
    }
   ],
   "source": [
    "maxiter_sizes = [10, 20, 50, 200, 500, 800, 1000, 1500, 2000]\n",
    "\n",
    "results = np.zeros(len(maxiter_sizes))\n",
    "times = np.zeros(len(maxiter_sizes))\n",
    "\n",
    "for i in range(len(maxiter_sizes)):\n",
    "    results[i],times[i],_,_ = test_simple_backprop(data, labels, 20, 5, maxiter_sizes[i])\n",
    "    print 'done with %i' % maxiter_sizes[i]\n",
    "    \n",
    "plot(results)\n"
   ]
  },
  {
   "cell_type": "code",
   "execution_count": 11,
   "metadata": {
    "collapsed": false
   },
   "outputs": [],
   "source": [
    "scipy.io.savemat('../results/backprop_maxiter.mat', {'acc': results, 'times': times})"
   ]
  },
  {
   "cell_type": "markdown",
   "metadata": {},
   "source": [
    "### We now look at different data inputs\n",
    "\n",
    "Start with negative input"
   ]
  },
  {
   "cell_type": "code",
   "execution_count": 49,
   "metadata": {
    "collapsed": false
   },
   "outputs": [
    {
     "name": "stdout",
     "output_type": "stream",
     "text": [
      "(1623, 512)\n",
      "(1624, 256)\n"
     ]
    }
   ],
   "source": [
    "\n",
    "\n",
    "\n",
    "\n",
    "hidden_size = [15,17,19,21,23,25,27,29,31,33,35]\n",
    "\n",
    "data2 = np.concatenate(( data[0:-1,:], data[1:,:] ),1 ) \n",
    "\n",
    "results = np.zeros((2,len(hidden_size)))\n",
    "\n",
    "for i in range(len(hidden_size)):\n",
    "    results[0,i],_,_,_ = test_simple_backprop(data , labels, hidden_size[i], 20, 500)\n",
    "    results[1,i],_,_,_ = test_simple_backprop(data2, labels, hidden_size[i], 20, 500)\n",
    "    print 'done with %i' % hidden_size[i]\n",
    "    \n",
    "plot(results.T)"
   ]
  },
  {
   "cell_type": "code",
   "execution_count": 35,
   "metadata": {
    "collapsed": false
   },
   "outputs": [
    {
     "name": "stdout",
     "output_type": "stream",
     "text": [
      "1\n"
     ]
    }
   ],
   "source": []
  }
 ],
 "metadata": {
  "kernelspec": {
   "display_name": "Python 2",
   "language": "python",
   "name": "python2"
  },
  "language_info": {
   "codemirror_mode": {
    "name": "ipython",
    "version": 2
   },
   "file_extension": ".py",
   "mimetype": "text/x-python",
   "name": "python",
   "nbconvert_exporter": "python",
   "pygments_lexer": "ipython2",
   "version": "2.7.6"
  }
 },
 "nbformat": 4,
 "nbformat_minor": 0
}
