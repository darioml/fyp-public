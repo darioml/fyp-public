{
 "cells": [
  {
   "cell_type": "code",
   "execution_count": 2,
   "metadata": {
    "collapsed": false
   },
   "outputs": [
    {
     "name": "stdout",
     "output_type": "stream",
     "text": [
      "/Users/darioml/src/fyp/backprop\n"
     ]
    }
   ],
   "source": [
    "cd ../backprop"
   ]
  },
  {
   "cell_type": "code",
   "execution_count": 14,
   "metadata": {
    "collapsed": false
   },
   "outputs": [
    {
     "name": "stdout",
     "output_type": "stream",
     "text": [
      "Populating the interactive namespace from numpy and matplotlib\n"
     ]
    }
   ],
   "source": [
    "%pylab inline\n",
    "from nn_scipy_opti import NN_1HL\n",
    "import numpy as np\n",
    "from sklearn import cross_validation\n",
    "from sklearn.metrics import accuracy_score\n",
    "import matplotlib.pyplot as plt\n",
    "from pprint import pprint\n",
    "import scipy.io\n",
    "import time"
   ]
  },
  {
   "cell_type": "code",
   "execution_count": 4,
   "metadata": {
    "collapsed": true
   },
   "outputs": [],
   "source": [
    "def test_simple_backprop(data, labels, hidden_nodes, iterations, maxiter=200, plot=False):\n",
    "    times = []\n",
    "    accuracy = []\n",
    "    \n",
    "    for i in range(iterations):\n",
    "        X_train, X_test, y_train, y_test = cross_validation.train_test_split(data, labels, test_size=0.2)\n",
    "        nn = NN_1HL(maxiter=maxiter, hidden_layer_size=hidden_nodes)\n",
    "        \n",
    "        time_now = time.time()\n",
    "        nn.fit(X_train, y_train)\n",
    "        times.append( time.time() - time_now )\n",
    "        \n",
    "        accuracy.append(accuracy_score(y_test, nn.predict(X_test)))\n",
    "    return np.mean(accuracy),np.mean(times),accuracy,times"
   ]
  },
  {
   "cell_type": "code",
   "execution_count": 21,
   "metadata": {
    "collapsed": false
   },
   "outputs": [
    {
     "name": "stdout",
     "output_type": "stream",
     "text": [
      "\n"
     ]
    }
   ],
   "source": [
    "data_file = scipy.io.loadmat('../data/mat/ball_with_speed.mat')\n",
    "\n",
    "data = np.array(data_file['X'])\n",
    "labels = np.array(data_file['Y'], 'uint8').T\n",
    "\n",
    "\n",
    "labels = labels[0,:].flatten()\n",
    "print"
   ]
  },
  {
   "cell_type": "code",
   "execution_count": 17,
   "metadata": {
    "collapsed": false
   },
   "outputs": [
    {
     "name": "stdout",
     "output_type": "stream",
     "text": [
      "0.733716475096\n",
      "26.0937476953\n",
      "[0.70114942528735635, 0.74137931034482762, 0.75862068965517238]\n",
      "[26.382867097854614, 26.194391012191772, 25.70398497581482]\n"
     ]
    }
   ],
   "source": [
    "a,b,c,d = test_simple_backprop(data, labels, 20, 3, 400)\n",
    "\n",
    "print a\n",
    "print b\n",
    "print c\n",
    "print d"
   ]
  },
  {
   "cell_type": "code",
   "execution_count": 24,
   "metadata": {
    "collapsed": false
   },
   "outputs": [
    {
     "name": "stdout",
     "output_type": "stream",
     "text": [
      "0.929118773946\n",
      "9.13822809855\n",
      "[0.93678160919540232, 0.91954022988505746, 0.93103448275862066]\n",
      "[9.888365030288696, 8.147611141204834, 9.378708124160767]\n"
     ]
    },
    {
     "name": "stderr",
     "output_type": "stream",
     "text": [
      "scipy_optim.py:68: RuntimeWarning: divide by zero encountered in log\n",
      "  costNegative = (1 - Y) * np.log(1 - h).T\n",
      "scipy_optim.py:68: RuntimeWarning: invalid value encountered in multiply\n",
      "  costNegative = (1 - Y) * np.log(1 - h).T\n"
     ]
    }
   ],
   "source": [
    "data_1 = data/255\n",
    "\n",
    "a,b,c,d = test_simple_backprop(data_1, labels, 20, 3, 400)\n",
    "\n",
    "print a\n",
    "print b\n",
    "print c\n",
    "print d"
   ]
  },
  {
   "cell_type": "code",
   "execution_count": 25,
   "metadata": {
    "collapsed": false
   },
   "outputs": [
    {
     "name": "stdout",
     "output_type": "stream",
     "text": [
      "0.916666666667\n",
      "12.2243272662\n",
      "[0.96551724137931039, 0.9022988505747126, 0.85632183908045978, 0.94252873563218387]\n",
      "[20.849663019180298, 8.79947304725647, 7.358099937438965, 11.89007306098938]\n"
     ]
    }
   ],
   "source": [
    "data_1 = data/255\n",
    "\n",
    "a,b,c,d = test_simple_backprop(data_1, labels, 23, 4, 600)\n",
    "\n",
    "print a\n",
    "print b\n",
    "print c\n",
    "print d"
   ]
  }
 ],
 "metadata": {
  "kernelspec": {
   "display_name": "Python 2",
   "language": "python",
   "name": "python2"
  },
  "language_info": {
   "codemirror_mode": {
    "name": "ipython",
    "version": 2
   },
   "file_extension": ".py",
   "mimetype": "text/x-python",
   "name": "python",
   "nbconvert_exporter": "python",
   "pygments_lexer": "ipython2",
   "version": "2.7.6"
  }
 },
 "nbformat": 4,
 "nbformat_minor": 0
}
