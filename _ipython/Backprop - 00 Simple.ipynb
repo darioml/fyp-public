{
 "cells": [
  {
   "cell_type": "code",
   "execution_count": 4,
   "metadata": {
    "collapsed": false
   },
   "outputs": [
    {
     "name": "stdout",
     "output_type": "stream",
     "text": [
      "/Users/darioml/src/fyp/backprop\n"
     ]
    }
   ],
   "source": [
    "cd ../backprop"
   ]
  },
  {
   "cell_type": "code",
   "execution_count": 12,
   "metadata": {
    "collapsed": false
   },
   "outputs": [
    {
     "name": "stdout",
     "output_type": "stream",
     "text": [
      "Populating the interactive namespace from numpy and matplotlib\n"
     ]
    }
   ],
   "source": [
    "%pylab inline\n",
    "from nn_scipy_opti import NN_1HL\n",
    "import numpy as np\n",
    "from sklearn import cross_validation\n",
    "from sklearn.metrics import accuracy_score,confusion_matrix\n",
    "import matplotlib.pyplot as plt\n",
    "from pprint import pprint\n",
    "import scipy.io\n",
    "import time"
   ]
  },
  {
   "cell_type": "code",
   "execution_count": 26,
   "metadata": {
    "collapsed": false
   },
   "outputs": [],
   "source": [
    "def plot_confusion_matrix(cm, title='Confusion matrix', cmap=plt.cm.Blues):\n",
    "    plt.imshow(cm, interpolation='nearest', cmap=cmap)\n",
    "    plt.title(title)\n",
    "    plt.colorbar()\n",
    "    \n",
    "    tick_marks = np.arange(4)\n",
    "    plt.xticks(tick_marks, range(4)) #, rotation=45\n",
    "    plt.yticks(tick_marks, range(4))\n",
    "    plt.tight_layout()\n",
    "    plt.ylabel('True label')\n",
    "    plt.xlabel('Predicted label')\n",
    "\n",
    "\n",
    "# USAGE: \n",
    "# confmat = confusion_matrix(y_test, y_pred)\n",
    "# plt.figure()\n",
    "# plot_confusion_matrix(confmat)\n",
    "\n",
    "# cm_normalized = confmat.astype('float') / confmat.sum(axis=1)[:, np.newaxis]\n",
    "# plt.figure()\n",
    "# plot_confusion_matrix(cm_normalized, title='Normalized confusion matrix')"
   ]
  },
  {
   "cell_type": "markdown",
   "metadata": {},
   "source": [
    "# Time for some plotting!\n",
    "\n",
    "We will need to test the following:\n",
    "\n",
    "- effect of maxiterations\n",
    "- effect of hidden nodes\n",
    "- confusion matrix for this\n",
    "- effect of different inputs (0 to 1, -1 to 1, 0 to 255)"
   ]
  },
  {
   "cell_type": "code",
   "execution_count": 7,
   "metadata": {
    "collapsed": true
   },
   "outputs": [],
   "source": [
    "def test_simple_backprop(data, labels, hidden_nodes, iterations, maxiter=200, plot=False):\n",
    "    times = []\n",
    "    accuracy = []\n",
    "    \n",
    "    for i in range(iterations):\n",
    "        X_train, X_test, y_train, y_test = cross_validation.train_test_split(data, labels, test_size=0.2)\n",
    "        nn = NN_1HL(maxiter=maxiter, hidden_layer_size=hidden_nodes)\n",
    "        \n",
    "        time_now = time.time()\n",
    "        nn.fit(X_train, y_train)\n",
    "        times.append( time.time() - time_now )\n",
    "        \n",
    "        accuracy.append(accuracy_score(y_test, nn.predict(X_test)))\n",
    "    return np.mean(accuracy),np.mean(times),accuracy,times"
   ]
  },
  {
   "cell_type": "code",
   "execution_count": 8,
   "metadata": {
    "collapsed": true
   },
   "outputs": [],
   "source": [
    "## Let's get our data\n",
    "\n",
    "data_file = scipy.io.loadmat('../data/mat/ball.mat')\n",
    "\n",
    "data = np.array(data_file['X'])\n",
    "labels = np.array(data_file['Y'], 'uint8').T\n",
    "\n",
    "labels = labels.flatten()\n"
   ]
  },
  {
   "cell_type": "code",
   "execution_count": null,
   "metadata": {
    "collapsed": true
   },
   "outputs": [],
   "source": [
    "maxiter_sizes = [10, 20, 50, 200, 500, 800, 1000, 1500, 2000]\n",
    "\n",
    "results = np.zeros(len(maxiter_sizes))\n",
    "times = np.zeros(len(maxiter_sizes))\n",
    "\n",
    "for i in range(len(maxiter_sizes)):\n",
    "    results[i],times[i],_,_ = test_simple_backprop(data, labels, 20, 20, maxiter_sizes[i])\n",
    "    print 'done with %i' % maxiter_sizes[i]\n",
    "    \n",
    "scipy.io.savemat('../results/backprop_maxiter_2015-06-14.mat', \n",
    "                 {'acc': results, 'times': times, 'iters': maxiter_sizes})"
   ]
  },
  {
   "cell_type": "code",
   "execution_count": null,
   "metadata": {
    "collapsed": true
   },
   "outputs": [],
   "source": [
    "hidden_size = [15,17,19,21,23,25,27,29,31,33,35]\n",
    "\n",
    "results = np.zeros(len(hidden_size))\n",
    "times = np.zeros(len(hidden_size))\n",
    "\n",
    "for i in range(len(hidden_size)):\n",
    "    results[i],times[i],_,_ = test_simple_backprop(data, labels, hidden_size[i], 5, 800)\n",
    "    print 'done with %i' % hidden_size[i]\n",
    "    \n",
    "scipy.io.savemat('../results/backprop_hiddennodes_2015-06-14.mat', \n",
    "                 {'acc': results, 'times': times, 'iters': maxiter_sizes})\n"
   ]
  },
  {
   "cell_type": "code",
   "execution_count": 10,
   "metadata": {
    "collapsed": false
   },
   "outputs": [
    {
     "name": "stdout",
     "output_type": "stream",
     "text": [
      "1.0\n",
      "-1.0\n"
     ]
    }
   ],
   "source": [
    "hidden_size = [15,17,19,21,23,25,27,29,31,33,35]\n",
    "\n",
    "data2 = (data/255)\n",
    "data3 = (2*data2)-1\n",
    "\n",
    "results = np.zeros((3,len(hidden_size)))\n",
    "times = np.zeros((3,len(hidden_size)))\n",
    "\n",
    "for i in range(len(hidden_size)):\n",
    "    print 'starting with %i' % hidden_size[i]\n",
    "    results[0,i],times[0,i],_,_ = test_simple_backprop(data , labels, hidden_size[i], 10, 600)\n",
    "    results[1,i],times[1,i],_,_ = test_simple_backprop(data2, labels, hidden_size[i], 10, 600)\n",
    "    results[2,i],times[2,i],_,_ = test_simple_backprop(data3, labels, hidden_size[i], 10, 600)\n",
    "    print 'done with %i' % hidden_size[i]\n",
    "\n",
    "scipy.io.savemat('../results/backprop_data_format_2015-06-14.mat',\n",
    "                 {'results': results, 'times': times, 'iters': maxiter_sizes})"
   ]
  },
  {
   "cell_type": "code",
   "execution_count": 30,
   "metadata": {
    "collapsed": false
   },
   "outputs": [],
   "source": [
    "# Let's plot a confustion matrix for out testing data:\n",
    "\n",
    "data2 = (data/255)\n",
    "X_train, X_test, y_train, y_test = cross_validation.train_test_split(data2, labels, test_size=0.2)\n",
    "\n",
    "nn = NN_1HL(maxiter=600, hidden_layer_size=25)\n",
    "nn.fit(X_train, y_train)\n",
    "\n",
    "y_pred = nn.predict(X_test)\n",
    "\n",
    "confmat = confusion_matrix(y_test, y_pred)\n",
    "cm_normalized = confmat.astype('float') / confmat.sum(axis=1)[:, np.newaxis]"
   ]
  },
  {
   "cell_type": "code",
   "execution_count": 29,
   "metadata": {
    "collapsed": false
   },
   "outputs": [
    {
     "data": {
      "image/png": "[encoded data removed]",
      "text/plain": [
       "<matplotlib.figure.Figure at 0x10e278790>"
      ]
     },
     "metadata": {},
     "output_type": "display_data"
    }
   ],
   "source": [
    "plot_confusion_matrix(cm_normalized, title='Normalized confusion matrix', cmap=plt.cm.copper_r)"
   ]
  }
 ],
 "metadata": {
  "kernelspec": {
   "display_name": "Python 2",
   "language": "python",
   "name": "python2"
  },
  "language_info": {
   "codemirror_mode": {
    "name": "ipython",
    "version": 2
   },
   "file_extension": ".py",
   "mimetype": "text/x-python",
   "name": "python",
   "nbconvert_exporter": "python",
   "pygments_lexer": "ipython2",
   "version": "2.7.6"
  }
 },
 "nbformat": 4,
 "nbformat_minor": 0
}
